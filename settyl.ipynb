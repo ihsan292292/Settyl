{
  "cells": [
    {
      "cell_type": "markdown",
      "metadata": {
        "colab_type": "text",
        "id": "view-in-github"
      },
      "source": [
        "<a href=\"https://colab.research.google.com/github/ihsan292292/Settyl/blob/main/settyl.ipynb\" target=\"_parent\"><img src=\"https://colab.research.google.com/assets/colab-badge.svg\" alt=\"Open In Colab\"/></a>"
      ]
    },
    {
      "cell_type": "code",
      "execution_count": 1,
      "metadata": {},
      "outputs": [
        {
          "name": "stdout",
          "output_type": "stream",
          "text": [
            "Requirement already satisfied: pandas in ./env/lib/python3.10/site-packages (2.2.1)\n",
            "Requirement already satisfied: numpy<2,>=1.22.4 in ./env/lib/python3.10/site-packages (from pandas) (1.26.4)\n",
            "Requirement already satisfied: tzdata>=2022.7 in ./env/lib/python3.10/site-packages (from pandas) (2024.1)\n",
            "Requirement already satisfied: pytz>=2020.1 in ./env/lib/python3.10/site-packages (from pandas) (2024.1)\n",
            "Requirement already satisfied: python-dateutil>=2.8.2 in ./env/lib/python3.10/site-packages (from pandas) (2.9.0.post0)\n",
            "Requirement already satisfied: six>=1.5 in ./env/lib/python3.10/site-packages (from python-dateutil>=2.8.2->pandas) (1.16.0)\n",
            "Requirement already satisfied: requests in ./env/lib/python3.10/site-packages (2.31.0)\n",
            "Requirement already satisfied: idna<4,>=2.5 in ./env/lib/python3.10/site-packages (from requests) (3.6)\n",
            "Requirement already satisfied: certifi>=2017.4.17 in ./env/lib/python3.10/site-packages (from requests) (2024.2.2)\n",
            "Requirement already satisfied: urllib3<3,>=1.21.1 in ./env/lib/python3.10/site-packages (from requests) (2.2.1)\n",
            "Requirement already satisfied: charset-normalizer<4,>=2 in ./env/lib/python3.10/site-packages (from requests) (3.3.2)\n",
            "Requirement already satisfied: matplotlib in ./env/lib/python3.10/site-packages (3.8.3)\n",
            "Requirement already satisfied: pyparsing>=2.3.1 in ./env/lib/python3.10/site-packages (from matplotlib) (3.1.2)\n",
            "Requirement already satisfied: contourpy>=1.0.1 in ./env/lib/python3.10/site-packages (from matplotlib) (1.2.0)\n",
            "Requirement already satisfied: fonttools>=4.22.0 in ./env/lib/python3.10/site-packages (from matplotlib) (4.50.0)\n",
            "Requirement already satisfied: pillow>=8 in ./env/lib/python3.10/site-packages (from matplotlib) (10.2.0)\n",
            "Requirement already satisfied: packaging>=20.0 in ./env/lib/python3.10/site-packages (from matplotlib) (24.0)\n",
            "Requirement already satisfied: kiwisolver>=1.3.1 in ./env/lib/python3.10/site-packages (from matplotlib) (1.4.5)\n",
            "Requirement already satisfied: python-dateutil>=2.7 in ./env/lib/python3.10/site-packages (from matplotlib) (2.9.0.post0)\n",
            "Requirement already satisfied: cycler>=0.10 in ./env/lib/python3.10/site-packages (from matplotlib) (0.12.1)\n",
            "Requirement already satisfied: numpy<2,>=1.21 in ./env/lib/python3.10/site-packages (from matplotlib) (1.26.4)\n",
            "Requirement already satisfied: six>=1.5 in ./env/lib/python3.10/site-packages (from python-dateutil>=2.7->matplotlib) (1.16.0)\n"
          ]
        }
      ],
      "source": [
        "! pip install pandas\n",
        "! pip install requests\n",
        "! pip install matplotlib"
      ]
    },
    {
      "cell_type": "code",
      "execution_count": 2,
      "metadata": {
        "id": "aXKpVSa8A2-_"
      },
      "outputs": [],
      "source": [
        "import json\n",
        "import requests\n",
        "import pandas as pd"
      ]
    },
    {
      "cell_type": "code",
      "execution_count": 3,
      "metadata": {
        "id": "hBnSeKFwDNYK"
      },
      "outputs": [],
      "source": [
        "file_path = \"https://gist.githubusercontent.com/farhaan-settyl/ecf9c1e7ab7374f18e4400b7a3d2a161/raw/f94652f217eeca83e36dab9d08727caf79ebdecf/dataset.json\""
      ]
    },
    {
      "cell_type": "code",
      "execution_count": 4,
      "metadata": {
        "id": "R6YcjsKgB_XC"
      },
      "outputs": [],
      "source": [
        "response = requests.get(file_path)\n",
        "json_data = response.json()"
      ]
    },
    {
      "cell_type": "code",
      "execution_count": 5,
      "metadata": {
        "id": "gvmaVP5FDXzl"
      },
      "outputs": [],
      "source": [
        "unique_labels = set()\n",
        "for entry in json_data:\n",
        "  unique_labels.add(entry[\"internalStatus\"])\n"
      ]
    },
    {
      "cell_type": "code",
      "execution_count": 6,
      "metadata": {
        "colab": {
          "base_uri": "https://localhost:8080/"
        },
        "id": "4FCZTk_-aTSG",
        "outputId": "88e292d8-c4b1-46f6-cfef-9c2a159ef8c3"
      },
      "outputs": [
        {
          "data": {
            "text/plain": [
              "{'Arrival',\n",
              " 'Departure',\n",
              " 'Empty Container Released',\n",
              " 'Empty Return',\n",
              " 'Gate In',\n",
              " 'Gate Out',\n",
              " 'In-transit',\n",
              " 'Inbound Terminal',\n",
              " 'Loaded on Vessel',\n",
              " 'Off Rail',\n",
              " 'On Rail',\n",
              " 'Outbound Terminal',\n",
              " 'Port In',\n",
              " 'Port Out',\n",
              " 'Unloaded on Vessel'}"
            ]
          },
          "execution_count": 6,
          "metadata": {},
          "output_type": "execute_result"
        }
      ],
      "source": [
        "unique_labels"
      ]
    },
    {
      "cell_type": "code",
      "execution_count": 7,
      "metadata": {
        "id": "T-ahORaedgKN"
      },
      "outputs": [],
      "source": [
        "import matplotlib.pyplot as plt"
      ]
    },
    {
      "cell_type": "code",
      "execution_count": 8,
      "metadata": {
        "id": "1krzyCvGdi_w"
      },
      "outputs": [],
      "source": [
        "label_counts = {}\n",
        "for entry in json_data:\n",
        "    label = entry[\"internalStatus\"]\n",
        "    label_counts[label] = label_counts.get(label, 0) + 1"
      ]
    },
    {
      "cell_type": "code",
      "execution_count": 9,
      "metadata": {
        "id": "cNPNN6IedrVk"
      },
      "outputs": [],
      "source": [
        "labels = list(label_counts.keys())\n",
        "counts = list(label_counts.values())"
      ]
    },
    {
      "cell_type": "code",
      "execution_count": 10,
      "metadata": {
        "colab": {
          "base_uri": "https://localhost:8080/",
          "height": 607
        },
        "id": "Gs69dx-Wdxl9",
        "outputId": "0fda1b5a-4e22-4367-963f-6f789fd43445"
      },
      "outputs": [
        {
          "data": {
            "image/png": "[encoded data removed]",
            "text/plain": [
              "<Figure size 1000x600 with 1 Axes>"
            ]
          },
          "metadata": {},
          "output_type": "display_data"
        }
      ],
      "source": [
        "plt.figure(figsize=(10, 6))\n",
        "plt.bar(labels, counts, color='skyblue')\n",
        "plt.xlabel('Internal Status')\n",
        "plt.ylabel('Count')\n",
        "plt.title('Distribution of Internal Status Labels')\n",
        "plt.xticks(rotation=90)\n",
        "plt.tight_layout()\n",
        "plt.show()"
      ]
    },
    {
      "cell_type": "code",
      "execution_count": 11,
      "metadata": {
        "colab": {
          "base_uri": "https://localhost:8080/",
          "height": 424
        },
        "id": "lUdRjyIqhBhE",
        "outputId": "e10a27de-000c-4c8d-c114-2d28871503d2"
      },
      "outputs": [
        {
          "data": {
            "text/html": [
              "<div>\n",
              "<style scoped>\n",
              "    .dataframe tbody tr th:only-of-type {\n",
              "        vertical-align: middle;\n",
              "    }\n",
              "\n",
              "    .dataframe tbody tr th {\n",
              "        vertical-align: top;\n",
              "    }\n",
              "\n",
              "    .dataframe thead th {\n",
              "        text-align: right;\n",
              "    }\n",
              "</style>\n",
              "<table border=\"1\" class=\"dataframe\">\n",
              "  <thead>\n",
              "    <tr style=\"text-align: right;\">\n",
              "      <th></th>\n",
              "      <th>externalStatus</th>\n",
              "      <th>internalStatus</th>\n",
              "    </tr>\n",
              "  </thead>\n",
              "  <tbody>\n",
              "    <tr>\n",
              "      <th>0</th>\n",
              "      <td>PORT OUT</td>\n",
              "      <td>Port Out</td>\n",
              "    </tr>\n",
              "    <tr>\n",
              "      <th>1</th>\n",
              "      <td>TERMINAL IN</td>\n",
              "      <td>Inbound Terminal</td>\n",
              "    </tr>\n",
              "    <tr>\n",
              "      <th>2</th>\n",
              "      <td>PORT IN</td>\n",
              "      <td>Port In</td>\n",
              "    </tr>\n",
              "    <tr>\n",
              "      <th>3</th>\n",
              "      <td>Vessel departure from first POL (Vessel name :...</td>\n",
              "      <td>Departure</td>\n",
              "    </tr>\n",
              "    <tr>\n",
              "      <th>4</th>\n",
              "      <td>Vessel arrival at final POD (Vessel name : TIA...</td>\n",
              "      <td>Arrival</td>\n",
              "    </tr>\n",
              "    <tr>\n",
              "      <th>...</th>\n",
              "      <td>...</td>\n",
              "      <td>...</td>\n",
              "    </tr>\n",
              "    <tr>\n",
              "      <th>1217</th>\n",
              "      <td>Import Loaded on Rail</td>\n",
              "      <td>Loaded on Vessel</td>\n",
              "    </tr>\n",
              "    <tr>\n",
              "      <th>1218</th>\n",
              "      <td>Full Transshipment Loaded</td>\n",
              "      <td>Loaded on Vessel</td>\n",
              "    </tr>\n",
              "    <tr>\n",
              "      <th>1219</th>\n",
              "      <td>Full Transshipment Loaded</td>\n",
              "      <td>Loaded on Vessel</td>\n",
              "    </tr>\n",
              "    <tr>\n",
              "      <th>1220</th>\n",
              "      <td>Export Loaded on Vessel</td>\n",
              "      <td>Loaded on Vessel</td>\n",
              "    </tr>\n",
              "    <tr>\n",
              "      <th>1221</th>\n",
              "      <td>Empty to Shipper</td>\n",
              "      <td>Empty Container Released</td>\n",
              "    </tr>\n",
              "  </tbody>\n",
              "</table>\n",
              "<p>1222 rows × 2 columns</p>\n",
              "</div>"
            ],
            "text/plain": [
              "                                         externalStatus  \\\n",
              "0                                              PORT OUT   \n",
              "1                                           TERMINAL IN   \n",
              "2                                               PORT IN   \n",
              "3     Vessel departure from first POL (Vessel name :...   \n",
              "4     Vessel arrival at final POD (Vessel name : TIA...   \n",
              "...                                                 ...   \n",
              "1217                              Import Loaded on Rail   \n",
              "1218                          Full Transshipment Loaded   \n",
              "1219                          Full Transshipment Loaded   \n",
              "1220                            Export Loaded on Vessel   \n",
              "1221                                   Empty to Shipper   \n",
              "\n",
              "                internalStatus  \n",
              "0                     Port Out  \n",
              "1             Inbound Terminal  \n",
              "2                      Port In  \n",
              "3                    Departure  \n",
              "4                      Arrival  \n",
              "...                        ...  \n",
              "1217          Loaded on Vessel  \n",
              "1218          Loaded on Vessel  \n",
              "1219          Loaded on Vessel  \n",
              "1220          Loaded on Vessel  \n",
              "1221  Empty Container Released  \n",
              "\n",
              "[1222 rows x 2 columns]"
            ]
          },
          "execution_count": 11,
          "metadata": {},
          "output_type": "execute_result"
        }
      ],
      "source": [
        "df = pd.read_json(file_path)\n",
        "df"
      ]
    },
    {
      "cell_type": "markdown",
      "metadata": {
        "id": "VMlHE_tSQRqH"
      },
      "source": [
        "# Exploring Data"
      ]
    },
    {
      "cell_type": "code",
      "execution_count": 12,
      "metadata": {
        "colab": {
          "base_uri": "https://localhost:8080/"
        },
        "id": "bZECV9y1hFFF",
        "outputId": "e7b54fc9-d5ed-4042-d021-6b88037ba562"
      },
      "outputs": [
        {
          "data": {
            "text/plain": [
              "internalStatus\n",
              "Loaded on Vessel            331\n",
              "Departure                   287\n",
              "Gate Out                    146\n",
              "Gate In                     143\n",
              "Arrival                      62\n",
              "Empty Return                 47\n",
              "Empty Container Released     47\n",
              "Unloaded on Vessel           37\n",
              "On Rail                      25\n",
              "Off Rail                     25\n",
              "Outbound Terminal            24\n",
              "Port Out                     15\n",
              "Port In                      14\n",
              "In-transit                   10\n",
              "Inbound Terminal              9\n",
              "Name: count, dtype: int64"
            ]
          },
          "execution_count": 12,
          "metadata": {},
          "output_type": "execute_result"
        }
      ],
      "source": [
        "df['internalStatus'].value_counts()"
      ]
    },
    {
      "cell_type": "code",
      "execution_count": 13,
      "metadata": {
        "colab": {
          "base_uri": "https://localhost:8080/"
        },
        "id": "-s31gBL_h9HD",
        "outputId": "cd659be5-208d-4f5c-8f32-017274387854"
      },
      "outputs": [
        {
          "data": {
            "text/plain": [
              "externalStatus\n",
              "Discharge                                                           141\n",
              "Actual time of departure                                             50\n",
              "DEPARTCU                                                             43\n",
              "Expected time of departure                                           20\n",
              "'MARINA ONE 001S' Departure from Port of Loading MARINA ONE 001S      9\n",
              "Vessel Departure (Vessel name : VAYENGA MAERSK)                       7\n",
              "Export Rail Departure                                                 6\n",
              "Vessel Departure                                                      3\n",
              "Vessel departure from first POL (Vessel name : TIAN FU HE)            1\n",
              "Discharge (Vessel name : MSC ORION)                                   1\n",
              "'YM PLUM 175W' Departure from Port of Loading YM PLUM 175W            1\n",
              "'TUCAPEL 008E' Departure from Port of Loading TUCAPEL 008E            1\n",
              "Discharge (Vessel name : COSCO INDONESIA)                             1\n",
              "Discharge (Vessel name : MAERSK BULAN)                                1\n",
              "Discharge (Vessel name : MAERSK NIJMEGEN)                             1\n",
              "Discharge (Vessel name : ELBWATER)                                    1\n",
              "Name: count, dtype: int64"
            ]
          },
          "execution_count": 13,
          "metadata": {},
          "output_type": "execute_result"
        }
      ],
      "source": [
        "df[df['internalStatus'] == 'Departure']['externalStatus'].value_counts()"
      ]
    },
    {
      "cell_type": "code",
      "execution_count": 14,
      "metadata": {
        "colab": {
          "base_uri": "https://localhost:8080/"
        },
        "id": "-RsMPa3difDk",
        "outputId": "c3e1f214-1427-4148-cfce-ff93617f3d36"
      },
      "outputs": [
        {
          "data": {
            "text/plain": [
              "externalStatus\n",
              "Load on MAERSK SEMBAWANG / 237E                                   42\n",
              "Load on MSC SVEVA / 248E                                          39\n",
              "Full Transshipment Loaded                                         37\n",
              "Loaded at First POL                                               30\n",
              "Loaded at T/S POL                                                 30\n",
              "Export Loaded on Vessel                                           23\n",
              "Import Loaded on Rail                                             18\n",
              "Load on MSC ORION / 227N                                          15\n",
              "Loaded on 'MARINA ONE 001S' at Port of Loading MARINA ONE 001S     9\n",
              "Loaded on Board                                                    8\n",
              "Loaded on Train                                                    8\n",
              "Loaded on board (Vessel name : VAYENGA MAERSK)                     7\n",
              "Export Loaded on Rail                                              6\n",
              "Load on MAERSK GUATEMALA / 247E                                    3\n",
              "Loaded on board                                                    3\n",
              "Load on SAN CLEMENTE / 244E                                        3\n",
              "Full Load on rail for export                                       2\n",
              "Loaded USJAX                                                       2\n",
              "Load on BG IRELAND / 247W                                          2\n",
              "Load on MAERSK MONTANA / 246W                                      2\n",
              "Load on VOLGA MAERSK / 241N                                        2\n",
              "Load on SEALAND ILLINOIS / 226E                                    2\n",
              "Load on MILAN MAERSK / 242E                                        2\n",
              "Load on MUMBAI MAERSK / 226W                                       2\n",
              "Load on MAERSK EVORA / 228N                                        2\n",
              "Load on SKAGEN MAERSK / 248S                                       2\n",
              "Load on MAERSK HORSBURGH / 242E                                    2\n",
              "Load on MAERSK STEPNICA / 242S                                     2\n",
              "Load on GERNER MAERSK / 226N                                       2\n",
              "Load on CIELO DI RABAT / 243W                                      2\n",
              "Load on NORFOLK / 226E                                             2\n",
              "Load on CAP SAN SOUNIO / 239W                                      2\n",
              "Load on CAP SAN ARTEMISSIO / 240S                                  2\n",
              "Load (Vessel name : ELBWATER)                                      1\n",
              "Load (Vessel name : MSC ORION)                                     1\n",
              "Loaded on 'TUCAPEL 008E' at Port of Loading TUCAPEL 008E           1\n",
              "Loaded on 'YM PLUM 175W' at Port of Loading YM PLUM 175W           1\n",
              "Load (Vessel name : MAERSK BULAN)                                  1\n",
              "Load on MOGENS MAERSK / 246W                                       1\n",
              "Load (Vessel name : MAERSK NIJMEGEN)                               1\n",
              "Load on NYK FUSHIMI / 115N                                         1\n",
              "Load on EDITH MAERSK / 241E                                        1\n",
              "Load on LEONIDIO / 248W                                            1\n",
              "Load on MSC LIVORNO / 224N                                         1\n",
              "Load on CMA CGM DON PASCUALE / 242N                                1\n",
              "Load on PL GERMANY / 246N                                          1\n",
              "Load (Vessel name : COSCO INDONESIA)                               1\n",
              "Load on NORTHERN JASPER / 027E                                     1\n",
              "Load on MSC ALEXANDRA / 248W                                       1\n",
              "Name: count, dtype: int64"
            ]
          },
          "execution_count": 14,
          "metadata": {},
          "output_type": "execute_result"
        }
      ],
      "source": [
        "df[df['internalStatus'] == 'Loaded on Vessel']['externalStatus'].value_counts()"
      ]
    },
    {
      "cell_type": "code",
      "execution_count": 15,
      "metadata": {
        "colab": {
          "base_uri": "https://localhost:8080/"
        },
        "id": "-VzEx9R6kUP7",
        "outputId": "febd302d-40da-4120-efd4-7c6a5ebaf655"
      },
      "outputs": [
        {
          "data": {
            "text/plain": [
              "externalStatus\n",
              "Gate out    144\n",
              "GATE OUT      2\n",
              "Name: count, dtype: int64"
            ]
          },
          "execution_count": 15,
          "metadata": {},
          "output_type": "execute_result"
        }
      ],
      "source": [
        "df[df['internalStatus'] == 'Gate Out']['externalStatus'].value_counts()"
      ]
    },
    {
      "cell_type": "code",
      "execution_count": 16,
      "metadata": {
        "colab": {
          "base_uri": "https://localhost:8080/"
        },
        "id": "vvZjszFKkULW",
        "outputId": "df1c80ba-492a-4ce0-c47a-d61762fb7354"
      },
      "outputs": [
        {
          "data": {
            "text/plain": [
              "externalStatus\n",
              "Gate in    143\n",
              "Name: count, dtype: int64"
            ]
          },
          "execution_count": 16,
          "metadata": {},
          "output_type": "execute_result"
        }
      ],
      "source": [
        "df[df['internalStatus'] == 'Gate In']['externalStatus'].value_counts()"
      ]
    },
    {
      "cell_type": "code",
      "execution_count": 17,
      "metadata": {
        "colab": {
          "base_uri": "https://localhost:8080/"
        },
        "id": "WGjeTATukUIf",
        "outputId": "8d55c950-fc33-4ff6-c116-ad447e2fcabf"
      },
      "outputs": [
        {
          "data": {
            "text/plain": [
              "externalStatus\n",
              "'MARINA ONE 001S' Arrival at Port of Discharging MARINA ONE 001S    9\n",
              "Expected Arrival Update                                             8\n",
              "Rail Arrival in-Transit                                             8\n",
              "Expected Arrival at Dest. Ramp                                      8\n",
              "Expected Arrival Place of Delivery                                  8\n",
              "Vessel Arrival (Vessel name : VAYENGA MAERSK)                       7\n",
              "Vessel Arrival                                                      4\n",
              "Estimated Time of Arrival                                           4\n",
              "Train arrival for export                                            2\n",
              "Vessel arrival at final POD (Vessel name : TIAN FU HE)              1\n",
              "'YM PLUM 175W' Arrival at Port of Discharging YM PLUM 175W          1\n",
              "Empty Container Door Arrival                                        1\n",
              "'TUCAPEL 008E' Arrival at Port of Discharging TUCAPEL 008E          1\n",
              "Name: count, dtype: int64"
            ]
          },
          "execution_count": 17,
          "metadata": {},
          "output_type": "execute_result"
        }
      ],
      "source": [
        "df[df['internalStatus'] == 'Arrival']['externalStatus'].value_counts()"
      ]
    },
    {
      "cell_type": "code",
      "execution_count": 18,
      "metadata": {
        "colab": {
          "base_uri": "https://localhost:8080/"
        },
        "id": "5kaQ4XMvkUED",
        "outputId": "d470600d-8825-4d16-b4fe-aef715bce50b"
      },
      "outputs": [
        {
          "data": {
            "text/plain": [
              "externalStatus\n",
              "Gate out, Empty                           36\n",
              "Empty Container Returned from Customer    11\n",
              "Name: count, dtype: int64"
            ]
          },
          "execution_count": 18,
          "metadata": {},
          "output_type": "execute_result"
        }
      ],
      "source": [
        "df[df['internalStatus'] == 'Empty Return']['externalStatus'].value_counts()"
      ]
    },
    {
      "cell_type": "code",
      "execution_count": 19,
      "metadata": {
        "colab": {
          "base_uri": "https://localhost:8080/"
        },
        "id": "OpPMv8HokUBn",
        "outputId": "9dcfa1aa-b27b-4599-9d9e-e6a951947031"
      },
      "outputs": [
        {
          "data": {
            "text/plain": [
              "externalStatus\n",
              "Empty to Shipper                      25\n",
              "Empty Container Release to Shipper    11\n",
              "Empty to shipper                      11\n",
              "Name: count, dtype: int64"
            ]
          },
          "execution_count": 19,
          "metadata": {},
          "output_type": "execute_result"
        }
      ],
      "source": [
        "df[df['internalStatus'] == 'Empty Container Released']['externalStatus'].value_counts()"
      ]
    },
    {
      "cell_type": "code",
      "execution_count": 20,
      "metadata": {
        "colab": {
          "base_uri": "https://localhost:8080/"
        },
        "id": "QkTrZz11kW9e",
        "outputId": "507e801e-8bfa-4197-942f-7d431986d903"
      },
      "outputs": [
        {
          "data": {
            "text/plain": [
              "externalStatus\n",
              "On rail    25\n",
              "Name: count, dtype: int64"
            ]
          },
          "execution_count": 20,
          "metadata": {},
          "output_type": "execute_result"
        }
      ],
      "source": [
        "df[df['internalStatus'] == 'On Rail']['externalStatus'].value_counts()"
      ]
    },
    {
      "cell_type": "code",
      "execution_count": 21,
      "metadata": {
        "colab": {
          "base_uri": "https://localhost:8080/"
        },
        "id": "NQVVFpKXkW7R",
        "outputId": "f62f77ab-d3ef-4cdd-ac9b-88b13aec5d2c"
      },
      "outputs": [
        {
          "data": {
            "text/plain": [
              "externalStatus\n",
              "Off rail    25\n",
              "Name: count, dtype: int64"
            ]
          },
          "execution_count": 21,
          "metadata": {},
          "output_type": "execute_result"
        }
      ],
      "source": [
        "df[df['internalStatus'] == 'Off Rail']['externalStatus'].value_counts()"
      ]
    },
    {
      "cell_type": "code",
      "execution_count": 22,
      "metadata": {
        "colab": {
          "base_uri": "https://localhost:8080/"
        },
        "id": "HqR7FSPIkW4h",
        "outputId": "6400bf37-a605-45ff-86cb-f70f915716b3"
      },
      "outputs": [
        {
          "data": {
            "text/plain": [
              "externalStatus\n",
              "Gate In to Outbound Terminal    11\n",
              "CFS OUT                          6\n",
              "Gate In to Outbound CY           1\n",
              "Outbound Rail Loading            1\n",
              "Outbound Rail Departure          1\n",
              "Outbound Rail Arrival            1\n",
              "Outbound Rail Unloading          1\n",
              "Gate Out from Outbound CY        1\n",
              "TERMINAL OUT                     1\n",
              "Name: count, dtype: int64"
            ]
          },
          "execution_count": 22,
          "metadata": {},
          "output_type": "execute_result"
        }
      ],
      "source": [
        "df[df['internalStatus'] == 'Outbound Terminal']['externalStatus'].value_counts()"
      ]
    },
    {
      "cell_type": "code",
      "execution_count": 23,
      "metadata": {
        "colab": {
          "base_uri": "https://localhost:8080/"
        },
        "id": "am0GfsXamH6u",
        "outputId": "e4488cbd-881c-47a2-d182-cf46db2de7e5"
      },
      "outputs": [
        {
          "data": {
            "text/plain": [
              "externalStatus\n",
              "PORT OUT    15\n",
              "Name: count, dtype: int64"
            ]
          },
          "execution_count": 23,
          "metadata": {},
          "output_type": "execute_result"
        }
      ],
      "source": [
        "df[df['internalStatus'] == 'Port Out']['externalStatus'].value_counts()"
      ]
    },
    {
      "cell_type": "code",
      "execution_count": 24,
      "metadata": {
        "colab": {
          "base_uri": "https://localhost:8080/"
        },
        "id": "zXK8MhX6mIiu",
        "outputId": "7ae86b4e-ce4a-4d00-d726-aa23f7ec4652"
      },
      "outputs": [
        {
          "data": {
            "text/plain": [
              "externalStatus\n",
              "PORT IN    14\n",
              "Name: count, dtype: int64"
            ]
          },
          "execution_count": 24,
          "metadata": {},
          "output_type": "execute_result"
        }
      ],
      "source": [
        "df[df['internalStatus'] == 'Port In']['externalStatus'].value_counts()"
      ]
    },
    {
      "cell_type": "code",
      "execution_count": 25,
      "metadata": {
        "colab": {
          "base_uri": "https://localhost:8080/"
        },
        "id": "yXQtQ-vQmIRS",
        "outputId": "440ce0b2-d1eb-4d94-e5cf-da5b9608f5f1"
      },
      "outputs": [
        {
          "data": {
            "text/plain": [
              "externalStatus\n",
              "TOLL PLAZA CROSSED    10\n",
              "Name: count, dtype: int64"
            ]
          },
          "execution_count": 25,
          "metadata": {},
          "output_type": "execute_result"
        }
      ],
      "source": [
        "df[df['internalStatus'] == 'In-transit']['externalStatus'].value_counts()"
      ]
    },
    {
      "cell_type": "code",
      "execution_count": 26,
      "metadata": {
        "colab": {
          "base_uri": "https://localhost:8080/"
        },
        "id": "_cIZUM6gmUUf",
        "outputId": "d9f97a03-1984-40fc-f7be-ccd80639bb07"
      },
      "outputs": [
        {
          "data": {
            "text/plain": [
              "externalStatus\n",
              "CFS IN         7\n",
              "TERMINAL IN    2\n",
              "Name: count, dtype: int64"
            ]
          },
          "execution_count": 26,
          "metadata": {},
          "output_type": "execute_result"
        }
      ],
      "source": [
        "df[df['internalStatus'] == 'Inbound Terminal']['externalStatus'].value_counts()"
      ]
    },
    {
      "cell_type": "code",
      "execution_count": 27,
      "metadata": {
        "colab": {
          "base_uri": "https://localhost:8080/",
          "height": 53
        },
        "id": "j71fv5xIHQ7Y",
        "outputId": "f24a96e6-abe7-4422-bb53-57cf86da8ed1"
      },
      "outputs": [
        {
          "data": {
            "text/plain": [
              "\"from gensim.models import Word2Vec\\nfrom nltk.tokenize import word_tokenize\\n\\ntokenized_sentences = [word_tokenize(sentence) for sentence in df['externalStatus_clean']]\\nmodel = Word2Vec(sentences=tokenized_sentences, vector_size=20, window=5, min_count=1, workers=4)\\nsentence_vectors = [model.wv.get_vector(word) for sentence in tokenized_sentences for word in sentence]\""
            ]
          },
          "execution_count": 27,
          "metadata": {},
          "output_type": "execute_result"
        }
      ],
      "source": [
        "'''from gensim.models import Word2Vec\n",
        "from nltk.tokenize import word_tokenize\n",
        "\n",
        "tokenized_sentences = [word_tokenize(sentence) for sentence in df['externalStatus_clean']]\n",
        "model = Word2Vec(sentences=tokenized_sentences, vector_size=20, window=5, min_count=1, workers=4)\n",
        "sentence_vectors = [model.wv.get_vector(word) for sentence in tokenized_sentences for word in sentence]'''"
      ]
    },
    {
      "cell_type": "markdown",
      "metadata": {
        "id": "i2UAfX92Q9NF"
      },
      "source": [
        "# Cleaning Text"
      ]
    },
    {
      "cell_type": "code",
      "execution_count": 28,
      "metadata": {
        "id": "poDGi1UcQ8Pm"
      },
      "outputs": [],
      "source": [
        "import string\n",
        "import re\n",
        "\n",
        "def clean_text(input_string):\n",
        "    # Regex that replaces punctuation with a blank space or empty string\n",
        "    pattern = r'[{}]'.format(re.escape(string.punctuation))\n",
        "    output_string = re.sub(pattern, ' ', input_string)\n",
        "    return output_string.lower()\n",
        "\n",
        "df['externalStatus_clean'] = df['externalStatus'].apply(clean_text)"
      ]
    },
    {
      "cell_type": "markdown",
      "metadata": {
        "id": "V8E8RbIpQZct"
      },
      "source": [
        "# Model Building"
      ]
    },
    {
      "cell_type": "code",
      "execution_count": 29,
      "metadata": {},
      "outputs": [
        {
          "name": "stdout",
          "output_type": "stream",
          "text": [
            "Requirement already satisfied: imblearn in ./env/lib/python3.10/site-packages (0.0)\n",
            "Requirement already satisfied: imbalanced-learn in ./env/lib/python3.10/site-packages (from imblearn) (0.12.0)\n",
            "Requirement already satisfied: scikit-learn>=1.0.2 in ./env/lib/python3.10/site-packages (from imbalanced-learn->imblearn) (1.4.1.post1)\n",
            "Requirement already satisfied: joblib>=1.1.1 in ./env/lib/python3.10/site-packages (from imbalanced-learn->imblearn) (1.3.2)\n",
            "Requirement already satisfied: threadpoolctl>=2.0.0 in ./env/lib/python3.10/site-packages (from imbalanced-learn->imblearn) (3.3.0)\n",
            "Requirement already satisfied: scipy>=1.5.0 in ./env/lib/python3.10/site-packages (from imbalanced-learn->imblearn) (1.12.0)\n",
            "Requirement already satisfied: numpy>=1.17.3 in ./env/lib/python3.10/site-packages (from imbalanced-learn->imblearn) (1.26.4)\n",
            "Note: you may need to restart the kernel to use updated packages.\n"
          ]
        }
      ],
      "source": [
        "pip install imblearn"
      ]
    },
    {
      "cell_type": "code",
      "execution_count": 30,
      "metadata": {
        "id": "UieMJvJ9K2Cl"
      },
      "outputs": [
        {
          "name": "stderr",
          "output_type": "stream",
          "text": [
            "2024-03-20 22:58:12.311424: I external/local_tsl/tsl/cuda/cudart_stub.cc:32] Could not find cuda drivers on your machine, GPU will not be used.\n",
            "2024-03-20 22:58:12.318437: I external/local_tsl/tsl/cuda/cudart_stub.cc:32] Could not find cuda drivers on your machine, GPU will not be used.\n",
            "2024-03-20 22:58:12.422484: I tensorflow/core/platform/cpu_feature_guard.cc:210] This TensorFlow binary is optimized to use available CPU instructions in performance-critical operations.\n",
            "To enable the following instructions: AVX2 FMA, in other operations, rebuild TensorFlow with the appropriate compiler flags.\n",
            "2024-03-20 22:58:13.717541: W tensorflow/compiler/tf2tensorrt/utils/py_utils.cc:38] TF-TRT Warning: Could not find TensorRT\n"
          ]
        }
      ],
      "source": [
        "from tensorflow.keras.preprocessing.text import Tokenizer\n",
        "from tensorflow.keras.preprocessing.sequence import pad_sequences\n",
        "from imblearn.over_sampling import SMOTE\n",
        "from keras.utils import to_categorical\n",
        "from sklearn.preprocessing import OneHotEncoder\n",
        "from sklearn.model_selection import train_test_split"
      ]
    },
    {
      "cell_type": "code",
      "execution_count": 31,
      "metadata": {
        "id": "CbjMfIEXKYEm"
      },
      "outputs": [],
      "source": [
        "tokenizer = Tokenizer(oov_token=\"<UNK>\", lower=True)\n",
        "tokenizer.fit_on_texts(df['externalStatus_clean'])\n",
        "sequences = tokenizer.texts_to_sequences(df['externalStatus_clean'])\n",
        "maxlen = max([len(seq) for seq in sequences])\n",
        "padded_sequences = pad_sequences(sequences, truncating=\"post\", padding=\"post\", maxlen=maxlen)"
      ]
    },
    {
      "cell_type": "code",
      "execution_count": 32,
      "metadata": {
        "id": "6mMDwq3ONIay"
      },
      "outputs": [],
      "source": [
        "sm = SMOTE(random_state=42)\n",
        "X_res, y_res = sm.fit_resample(padded_sequences, df['internalStatus'])"
      ]
    },
    {
      "cell_type": "code",
      "execution_count": 33,
      "metadata": {
        "colab": {
          "base_uri": "https://localhost:8080/"
        },
        "id": "M3x4FzTkNtV0",
        "outputId": "ef04df7e-3d7d-4b31-8b66-06f0b2fbb311"
      },
      "outputs": [
        {
          "data": {
            "text/plain": [
              "((4965, 12), (4965,))"
            ]
          },
          "execution_count": 33,
          "metadata": {},
          "output_type": "execute_result"
        }
      ],
      "source": [
        "X_res.shape, y_res.shape"
      ]
    },
    {
      "cell_type": "code",
      "execution_count": 34,
      "metadata": {
        "colab": {
          "base_uri": "https://localhost:8080/"
        },
        "id": "oRGG-psfS2U6",
        "outputId": "745cc980-e2e0-4388-a3b7-e894fc1b51d4"
      },
      "outputs": [],
      "source": [
        "encoder = OneHotEncoder()\n",
        "y = encoder.fit_transform(y_res.to_frame()).todense()\n",
        "X_train, X_test, y_train, y_test = train_test_split(X_res, y, train_size=0.8, random_state=42)"
      ]
    },
    {
      "cell_type": "code",
      "execution_count": 35,
      "metadata": {
        "id": "E0TdiJQzzGJ3"
      },
      "outputs": [],
      "source": [
        "from tensorflow.keras.models import Sequential\n",
        "from tensorflow.keras.layers import Embedding, LSTM, Dense, Bidirectional"
      ]
    },
    {
      "cell_type": "code",
      "execution_count": 36,
      "metadata": {
        "colab": {
          "base_uri": "https://localhost:8080/"
        },
        "id": "wbfi0brBzEC9",
        "outputId": "36f4fbdd-827f-4fd1-d421-48255523f69f"
      },
      "outputs": [
        {
          "name": "stderr",
          "output_type": "stream",
          "text": [
            "/home/ihsan/Desktop/settyl/Settyl/env/lib/python3.10/site-packages/keras/src/layers/core/embedding.py:81: UserWarning: Do not pass an `input_shape`/`input_dim` argument to a layer. When using Sequential models, prefer using an `Input(shape)` object as the first layer in the model instead.\n",
            "  super().__init__(**kwargs)\n"
          ]
        },
        {
          "data": {
            "text/html": [
              "<pre style=\"white-space:pre;overflow-x:auto;line-height:normal;font-family:Menlo,'DejaVu Sans Mono',consolas,'Courier New',monospace\"><span style=\"font-weight: bold\">Model: \"sequential\"</span>\n",
              "</pre>\n"
            ],
            "text/plain": [
              "\u001b[1mModel: \"sequential\"\u001b[0m\n"
            ]
          },
          "metadata": {},
          "output_type": "display_data"
        },
        {
          "data": {
            "text/html": [
              "<pre style=\"white-space:pre;overflow-x:auto;line-height:normal;font-family:Menlo,'DejaVu Sans Mono',consolas,'Courier New',monospace\">┏━━━━━━━━━━━━━━━━━━━━━━━━━━━━━━━━━┳━━━━━━━━━━━━━━━━━━━━━━━━┳━━━━━━━━━━━━━━━┓\n",
              "┃<span style=\"font-weight: bold\"> Layer (type)                    </span>┃<span style=\"font-weight: bold\"> Output Shape           </span>┃<span style=\"font-weight: bold\">       Param # </span>┃\n",
              "┡━━━━━━━━━━━━━━━━━━━━━━━━━━━━━━━━━╇━━━━━━━━━━━━━━━━━━━━━━━━╇━━━━━━━━━━━━━━━┩\n",
              "│ embedding (<span style=\"color: #0087ff; text-decoration-color: #0087ff\">Embedding</span>)           │ (<span style=\"color: #00d7ff; text-decoration-color: #00d7ff\">None</span>, <span style=\"color: #00af00; text-decoration-color: #00af00\">12</span>, <span style=\"color: #00af00; text-decoration-color: #00af00\">16</span>)         │         <span style=\"color: #00af00; text-decoration-color: #00af00\">3,200</span> │\n",
              "├─────────────────────────────────┼────────────────────────┼───────────────┤\n",
              "│ bidirectional (<span style=\"color: #0087ff; text-decoration-color: #0087ff\">Bidirectional</span>)   │ (<span style=\"color: #00d7ff; text-decoration-color: #00d7ff\">None</span>, <span style=\"color: #00af00; text-decoration-color: #00af00\">12</span>, <span style=\"color: #00af00; text-decoration-color: #00af00\">16</span>)         │         <span style=\"color: #00af00; text-decoration-color: #00af00\">1,600</span> │\n",
              "├─────────────────────────────────┼────────────────────────┼───────────────┤\n",
              "│ bidirectional_1 (<span style=\"color: #0087ff; text-decoration-color: #0087ff\">Bidirectional</span>) │ (<span style=\"color: #00d7ff; text-decoration-color: #00d7ff\">None</span>, <span style=\"color: #00af00; text-decoration-color: #00af00\">16</span>)             │         <span style=\"color: #00af00; text-decoration-color: #00af00\">1,600</span> │\n",
              "├─────────────────────────────────┼────────────────────────┼───────────────┤\n",
              "│ dense (<span style=\"color: #0087ff; text-decoration-color: #0087ff\">Dense</span>)                   │ (<span style=\"color: #00d7ff; text-decoration-color: #00d7ff\">None</span>, <span style=\"color: #00af00; text-decoration-color: #00af00\">15</span>)             │           <span style=\"color: #00af00; text-decoration-color: #00af00\">255</span> │\n",
              "└─────────────────────────────────┴────────────────────────┴───────────────┘\n",
              "</pre>\n"
            ],
            "text/plain": [
              "┏━━━━━━━━━━━━━━━━━━━━━━━━━━━━━━━━━┳━━━━━━━━━━━━━━━━━━━━━━━━┳━━━━━━━━━━━━━━━┓\n",
              "┃\u001b[1m \u001b[0m\u001b[1mLayer (type)                   \u001b[0m\u001b[1m \u001b[0m┃\u001b[1m \u001b[0m\u001b[1mOutput Shape          \u001b[0m\u001b[1m \u001b[0m┃\u001b[1m \u001b[0m\u001b[1m      Param #\u001b[0m\u001b[1m \u001b[0m┃\n",
              "┡━━━━━━━━━━━━━━━━━━━━━━━━━━━━━━━━━╇━━━━━━━━━━━━━━━━━━━━━━━━╇━━━━━━━━━━━━━━━┩\n",
              "│ embedding (\u001b[38;5;33mEmbedding\u001b[0m)           │ (\u001b[38;5;45mNone\u001b[0m, \u001b[38;5;34m12\u001b[0m, \u001b[38;5;34m16\u001b[0m)         │         \u001b[38;5;34m3,200\u001b[0m │\n",
              "├─────────────────────────────────┼────────────────────────┼───────────────┤\n",
              "│ bidirectional (\u001b[38;5;33mBidirectional\u001b[0m)   │ (\u001b[38;5;45mNone\u001b[0m, \u001b[38;5;34m12\u001b[0m, \u001b[38;5;34m16\u001b[0m)         │         \u001b[38;5;34m1,600\u001b[0m │\n",
              "├─────────────────────────────────┼────────────────────────┼───────────────┤\n",
              "│ bidirectional_1 (\u001b[38;5;33mBidirectional\u001b[0m) │ (\u001b[38;5;45mNone\u001b[0m, \u001b[38;5;34m16\u001b[0m)             │         \u001b[38;5;34m1,600\u001b[0m │\n",
              "├─────────────────────────────────┼────────────────────────┼───────────────┤\n",
              "│ dense (\u001b[38;5;33mDense\u001b[0m)                   │ (\u001b[38;5;45mNone\u001b[0m, \u001b[38;5;34m15\u001b[0m)             │           \u001b[38;5;34m255\u001b[0m │\n",
              "└─────────────────────────────────┴────────────────────────┴───────────────┘\n"
            ]
          },
          "metadata": {},
          "output_type": "display_data"
        },
        {
          "data": {
            "text/html": [
              "<pre style=\"white-space:pre;overflow-x:auto;line-height:normal;font-family:Menlo,'DejaVu Sans Mono',consolas,'Courier New',monospace\"><span style=\"font-weight: bold\"> Total params: </span><span style=\"color: #00af00; text-decoration-color: #00af00\">6,655</span> (26.00 KB)\n",
              "</pre>\n"
            ],
            "text/plain": [
              "\u001b[1m Total params: \u001b[0m\u001b[38;5;34m6,655\u001b[0m (26.00 KB)\n"
            ]
          },
          "metadata": {},
          "output_type": "display_data"
        },
        {
          "data": {
            "text/html": [
              "<pre style=\"white-space:pre;overflow-x:auto;line-height:normal;font-family:Menlo,'DejaVu Sans Mono',consolas,'Courier New',monospace\"><span style=\"font-weight: bold\"> Trainable params: </span><span style=\"color: #00af00; text-decoration-color: #00af00\">6,655</span> (26.00 KB)\n",
              "</pre>\n"
            ],
            "text/plain": [
              "\u001b[1m Trainable params: \u001b[0m\u001b[38;5;34m6,655\u001b[0m (26.00 KB)\n"
            ]
          },
          "metadata": {},
          "output_type": "display_data"
        },
        {
          "data": {
            "text/html": [
              "<pre style=\"white-space:pre;overflow-x:auto;line-height:normal;font-family:Menlo,'DejaVu Sans Mono',consolas,'Courier New',monospace\"><span style=\"font-weight: bold\"> Non-trainable params: </span><span style=\"color: #00af00; text-decoration-color: #00af00\">0</span> (0.00 B)\n",
              "</pre>\n"
            ],
            "text/plain": [
              "\u001b[1m Non-trainable params: \u001b[0m\u001b[38;5;34m0\u001b[0m (0.00 B)\n"
            ]
          },
          "metadata": {},
          "output_type": "display_data"
        }
      ],
      "source": [
        "model1 = Sequential()\n",
        "model1.add(Embedding(200, 16, input_shape=(maxlen,)))  # Adjust input_dim and output_dim as needed\n",
        "model1.add(Bidirectional(LSTM(8, return_sequences=True)))\n",
        "model1.add(Bidirectional(LSTM(8)))\n",
        "model1.add(Dense(15, activation=\"softmax\"))\n",
        "model1.summary()"
      ]
    },
    {
      "cell_type": "code",
      "execution_count": 37,
      "metadata": {
        "colab": {
          "base_uri": "https://localhost:8080/"
        },
        "id": "UZngO5X-9pPh",
        "outputId": "8325c2e0-cbdf-4b60-8309-0f7e0ae1c12b"
      },
      "outputs": [
        {
          "name": "stdout",
          "output_type": "stream",
          "text": [
            "Epoch 1/12\n",
            "\u001b[1m125/125\u001b[0m \u001b[32m━━━━━━━━━━━━━━━━━━━━\u001b[0m\u001b[37m\u001b[0m \u001b[1m6s\u001b[0m 9ms/step - accuracy: 0.1158 - loss: 2.6336 - val_accuracy: 0.3273 - val_loss: 1.8065\n",
            "Epoch 2/12\n",
            "\u001b[1m125/125\u001b[0m \u001b[32m━━━━━━━━━━━━━━━━━━━━\u001b[0m\u001b[37m\u001b[0m \u001b[1m1s\u001b[0m 6ms/step - accuracy: 0.6166 - loss: 1.4799 - val_accuracy: 0.8489 - val_loss: 0.8655\n",
            "Epoch 3/12\n",
            "\u001b[1m125/125\u001b[0m \u001b[32m━━━━━━━━━━━━━━━━━━━━\u001b[0m\u001b[37m\u001b[0m \u001b[1m1s\u001b[0m 6ms/step - accuracy: 0.9162 - loss: 0.7639 - val_accuracy: 0.9648 - val_loss: 0.5388\n",
            "Epoch 4/12\n",
            "\u001b[1m125/125\u001b[0m \u001b[32m━━━━━━━━━━━━━━━━━━━━\u001b[0m\u001b[37m\u001b[0m \u001b[1m1s\u001b[0m 6ms/step - accuracy: 0.9736 - loss: 0.4928 - val_accuracy: 0.9799 - val_loss: 0.3666\n",
            "Epoch 5/12\n",
            "\u001b[1m125/125\u001b[0m \u001b[32m━━━━━━━━━━━━━━━━━━━━\u001b[0m\u001b[37m\u001b[0m \u001b[1m1s\u001b[0m 6ms/step - accuracy: 0.9814 - loss: 0.3503 - val_accuracy: 0.9799 - val_loss: 0.2786\n",
            "Epoch 6/12\n",
            "\u001b[1m125/125\u001b[0m \u001b[32m━━━━━━━━━━━━━━━━━━━━\u001b[0m\u001b[37m\u001b[0m \u001b[1m1s\u001b[0m 7ms/step - accuracy: 0.9718 - loss: 0.2889 - val_accuracy: 0.9426 - val_loss: 0.3001\n",
            "Epoch 7/12\n",
            "\u001b[1m125/125\u001b[0m \u001b[32m━━━━━━━━━━━━━━━━━━━━\u001b[0m\u001b[37m\u001b[0m \u001b[1m1s\u001b[0m 7ms/step - accuracy: 0.9687 - loss: 0.2589 - val_accuracy: 0.9819 - val_loss: 0.2044\n",
            "Epoch 8/12\n",
            "\u001b[1m125/125\u001b[0m \u001b[32m━━━━━━━━━━━━━━━━━━━━\u001b[0m\u001b[37m\u001b[0m \u001b[1m1s\u001b[0m 7ms/step - accuracy: 0.9851 - loss: 0.1960 - val_accuracy: 0.9768 - val_loss: 0.1769\n",
            "Epoch 9/12\n",
            "\u001b[1m125/125\u001b[0m \u001b[32m━━━━━━━━━━━━━━━━━━━━\u001b[0m\u001b[37m\u001b[0m \u001b[1m1s\u001b[0m 7ms/step - accuracy: 0.9677 - loss: 0.2029 - val_accuracy: 0.9849 - val_loss: 0.1530\n",
            "Epoch 10/12\n",
            "\u001b[1m125/125\u001b[0m \u001b[32m━━━━━━━━━━━━━━━━━━━━\u001b[0m\u001b[37m\u001b[0m \u001b[1m1s\u001b[0m 7ms/step - accuracy: 0.9834 - loss: 0.1617 - val_accuracy: 0.9829 - val_loss: 0.1326\n",
            "Epoch 11/12\n",
            "\u001b[1m125/125\u001b[0m \u001b[32m━━━━━━━━━━━━━━━━━━━━\u001b[0m\u001b[37m\u001b[0m \u001b[1m1s\u001b[0m 7ms/step - accuracy: 0.9861 - loss: 0.1290 - val_accuracy: 0.9476 - val_loss: 0.1764\n",
            "Epoch 12/12\n",
            "\u001b[1m125/125\u001b[0m \u001b[32m━━━━━━━━━━━━━━━━━━━━\u001b[0m\u001b[37m\u001b[0m \u001b[1m1s\u001b[0m 7ms/step - accuracy: 0.9599 - loss: 0.1792 - val_accuracy: 0.9829 - val_loss: 0.1400\n"
          ]
        },
        {
          "data": {
            "text/plain": [
              "<keras.src.callbacks.history.History at 0x7446dbb4a0b0>"
            ]
          },
          "execution_count": 37,
          "metadata": {},
          "output_type": "execute_result"
        }
      ],
      "source": [
        "model1.compile(optimizer='adam', loss='categorical_crossentropy', metrics=['accuracy'])\n",
        "model1.fit(X_train, y_train, validation_data=(X_test, y_test), epochs=12)"
      ]
    },
    {
      "cell_type": "code",
      "execution_count": 40,
      "metadata": {
        "id": "zomPP-Z1UNOs"
      },
      "outputs": [],
      "source": [
        "def predict_outcome(text):\n",
        "    input_sequence = tokenizer.texts_to_sequences([clean_text(text)])\n",
        "    padded_input_sequence = pad_sequences(input_sequence, truncating=\"post\", padding=\"post\", maxlen=maxlen) if len(input_sequence[0]) <= maxlen else pad_sequences([list(filter(lambda x: x != 1, input_sequence[0]))], truncating=\"post\", padding=\"post\", maxlen=maxlen)\n",
        "    pred_index = model1.predict(padded_input_sequence, verbose=0)[0].argmax()\n",
        "    return encoder.categories_[0][pred_index]"
      ]
    },
    {
      "cell_type": "code",
      "execution_count": 41,
      "metadata": {
        "id": "LXcagVRBUBtM"
      },
      "outputs": [],
      "source": [
        "df['predictedInternalStatus'] = df['externalStatus'].apply(predict_outcome)"
      ]
    },
    {
      "cell_type": "code",
      "execution_count": 42,
      "metadata": {
        "colab": {
          "base_uri": "https://localhost:8080/",
          "height": 424
        },
        "id": "3Asp9svZUz1g",
        "outputId": "bdc1fe70-ca79-45b5-a0d7-bcb472d31245"
      },
      "outputs": [
        {
          "data": {
            "text/html": [
              "<div>\n",
              "<style scoped>\n",
              "    .dataframe tbody tr th:only-of-type {\n",
              "        vertical-align: middle;\n",
              "    }\n",
              "\n",
              "    .dataframe tbody tr th {\n",
              "        vertical-align: top;\n",
              "    }\n",
              "\n",
              "    .dataframe thead th {\n",
              "        text-align: right;\n",
              "    }\n",
              "</style>\n",
              "<table border=\"1\" class=\"dataframe\">\n",
              "  <thead>\n",
              "    <tr style=\"text-align: right;\">\n",
              "      <th></th>\n",
              "      <th>externalStatus</th>\n",
              "      <th>internalStatus</th>\n",
              "      <th>externalStatus_clean</th>\n",
              "      <th>predictedInternalStatus</th>\n",
              "    </tr>\n",
              "  </thead>\n",
              "  <tbody>\n",
              "    <tr>\n",
              "      <th>0</th>\n",
              "      <td>PORT OUT</td>\n",
              "      <td>Port Out</td>\n",
              "      <td>port out</td>\n",
              "      <td>Port Out</td>\n",
              "    </tr>\n",
              "    <tr>\n",
              "      <th>1</th>\n",
              "      <td>TERMINAL IN</td>\n",
              "      <td>Inbound Terminal</td>\n",
              "      <td>terminal in</td>\n",
              "      <td>Inbound Terminal</td>\n",
              "    </tr>\n",
              "    <tr>\n",
              "      <th>2</th>\n",
              "      <td>PORT IN</td>\n",
              "      <td>Port In</td>\n",
              "      <td>port in</td>\n",
              "      <td>Port In</td>\n",
              "    </tr>\n",
              "    <tr>\n",
              "      <th>3</th>\n",
              "      <td>Vessel departure from first POL (Vessel name :...</td>\n",
              "      <td>Departure</td>\n",
              "      <td>vessel departure from first pol  vessel name  ...</td>\n",
              "      <td>Departure</td>\n",
              "    </tr>\n",
              "    <tr>\n",
              "      <th>4</th>\n",
              "      <td>Vessel arrival at final POD (Vessel name : TIA...</td>\n",
              "      <td>Arrival</td>\n",
              "      <td>vessel arrival at final pod  vessel name   tia...</td>\n",
              "      <td>Arrival</td>\n",
              "    </tr>\n",
              "    <tr>\n",
              "      <th>...</th>\n",
              "      <td>...</td>\n",
              "      <td>...</td>\n",
              "      <td>...</td>\n",
              "      <td>...</td>\n",
              "    </tr>\n",
              "    <tr>\n",
              "      <th>1217</th>\n",
              "      <td>Import Loaded on Rail</td>\n",
              "      <td>Loaded on Vessel</td>\n",
              "      <td>import loaded on rail</td>\n",
              "      <td>Loaded on Vessel</td>\n",
              "    </tr>\n",
              "    <tr>\n",
              "      <th>1218</th>\n",
              "      <td>Full Transshipment Loaded</td>\n",
              "      <td>Loaded on Vessel</td>\n",
              "      <td>full transshipment loaded</td>\n",
              "      <td>Loaded on Vessel</td>\n",
              "    </tr>\n",
              "    <tr>\n",
              "      <th>1219</th>\n",
              "      <td>Full Transshipment Loaded</td>\n",
              "      <td>Loaded on Vessel</td>\n",
              "      <td>full transshipment loaded</td>\n",
              "      <td>Loaded on Vessel</td>\n",
              "    </tr>\n",
              "    <tr>\n",
              "      <th>1220</th>\n",
              "      <td>Export Loaded on Vessel</td>\n",
              "      <td>Loaded on Vessel</td>\n",
              "      <td>export loaded on vessel</td>\n",
              "      <td>Loaded on Vessel</td>\n",
              "    </tr>\n",
              "    <tr>\n",
              "      <th>1221</th>\n",
              "      <td>Empty to Shipper</td>\n",
              "      <td>Empty Container Released</td>\n",
              "      <td>empty to shipper</td>\n",
              "      <td>Empty Container Released</td>\n",
              "    </tr>\n",
              "  </tbody>\n",
              "</table>\n",
              "<p>1222 rows × 4 columns</p>\n",
              "</div>"
            ],
            "text/plain": [
              "                                         externalStatus  \\\n",
              "0                                              PORT OUT   \n",
              "1                                           TERMINAL IN   \n",
              "2                                               PORT IN   \n",
              "3     Vessel departure from first POL (Vessel name :...   \n",
              "4     Vessel arrival at final POD (Vessel name : TIA...   \n",
              "...                                                 ...   \n",
              "1217                              Import Loaded on Rail   \n",
              "1218                          Full Transshipment Loaded   \n",
              "1219                          Full Transshipment Loaded   \n",
              "1220                            Export Loaded on Vessel   \n",
              "1221                                   Empty to Shipper   \n",
              "\n",
              "                internalStatus  \\\n",
              "0                     Port Out   \n",
              "1             Inbound Terminal   \n",
              "2                      Port In   \n",
              "3                    Departure   \n",
              "4                      Arrival   \n",
              "...                        ...   \n",
              "1217          Loaded on Vessel   \n",
              "1218          Loaded on Vessel   \n",
              "1219          Loaded on Vessel   \n",
              "1220          Loaded on Vessel   \n",
              "1221  Empty Container Released   \n",
              "\n",
              "                                   externalStatus_clean  \\\n",
              "0                                              port out   \n",
              "1                                           terminal in   \n",
              "2                                               port in   \n",
              "3     vessel departure from first pol  vessel name  ...   \n",
              "4     vessel arrival at final pod  vessel name   tia...   \n",
              "...                                                 ...   \n",
              "1217                              import loaded on rail   \n",
              "1218                          full transshipment loaded   \n",
              "1219                          full transshipment loaded   \n",
              "1220                            export loaded on vessel   \n",
              "1221                                   empty to shipper   \n",
              "\n",
              "       predictedInternalStatus  \n",
              "0                     Port Out  \n",
              "1             Inbound Terminal  \n",
              "2                      Port In  \n",
              "3                    Departure  \n",
              "4                      Arrival  \n",
              "...                        ...  \n",
              "1217          Loaded on Vessel  \n",
              "1218          Loaded on Vessel  \n",
              "1219          Loaded on Vessel  \n",
              "1220          Loaded on Vessel  \n",
              "1221  Empty Container Released  \n",
              "\n",
              "[1222 rows x 4 columns]"
            ]
          },
          "execution_count": 42,
          "metadata": {},
          "output_type": "execute_result"
        }
      ],
      "source": [
        "df"
      ]
    },
    {
      "cell_type": "code",
      "execution_count": 43,
      "metadata": {
        "colab": {
          "base_uri": "https://localhost:8080/"
        },
        "id": "NW4VRoBoU0Ny",
        "outputId": "a214b725-e1ad-447c-c972-f931701c8ac1"
      },
      "outputs": [
        {
          "data": {
            "text/plain": [
              "True     1216\n",
              "False       6\n",
              "Name: count, dtype: int64"
            ]
          },
          "execution_count": 43,
          "metadata": {},
          "output_type": "execute_result"
        }
      ],
      "source": [
        "(df['internalStatus'] == df['predictedInternalStatus']).value_counts()"
      ]
    },
    {
      "cell_type": "markdown",
      "metadata": {
        "id": "1n-HbPUyVxZH"
      },
      "source": [
        "# Final Model training and exporting"
      ]
    },
    {
      "cell_type": "code",
      "execution_count": 47,
      "metadata": {
        "colab": {
          "base_uri": "https://localhost:8080/"
        },
        "id": "CV0Hg-Z-X0uQ",
        "outputId": "bd402c83-dd4e-4d29-8f92-1615faf3a235"
      },
      "outputs": [
        {
          "name": "stdout",
          "output_type": "stream",
          "text": [
            "INFO:tensorflow:Assets written to: save/assets\n"
          ]
        },
        {
          "name": "stderr",
          "output_type": "stream",
          "text": [
            "INFO:tensorflow:Assets written to: save/assets\n"
          ]
        },
        {
          "name": "stdout",
          "output_type": "stream",
          "text": [
            "Model Saved!\n"
          ]
        }
      ],
      "source": [
        "import pickle\n",
        "import tensorflow as tf\n",
        "\n",
        "with open(\"tokenizer.pkl\", \"wb\") as f:\n",
        "    pickle.dump(tokenizer, f)\n",
        "\n",
        "with open(\"encoder.pkl\", \"wb\") as f:\n",
        "    pickle.dump(encoder, f)\n",
        "    \n",
        "tf.saved_model.save(model1, 'save')\n",
        "print('Model Saved!')"
      ]
    },
    {
      "cell_type": "markdown",
      "metadata": {
        "id": "m0gTxVh-XZjR"
      },
      "source": [
        "# Deployment"
      ]
    },
    {
      "cell_type": "code",
      "execution_count": 48,
      "metadata": {
        "id": "lRH7ug8OWJqt"
      },
      "outputs": [],
      "source": [
        "from keras.models import load_model\n",
        "from tensorflow.keras.preprocessing.sequence import pad_sequences\n",
        "import pickle\n",
        "import tensorflow as tf"
      ]
    },
    {
      "cell_type": "code",
      "execution_count": 52,
      "metadata": {},
      "outputs": [
        {
          "name": "stdout",
          "output_type": "stream",
          "text": [
            "Requirement already satisfied: fastapi in ./env/lib/python3.10/site-packages (0.110.0)\n",
            "Requirement already satisfied: uvicorn in ./env/lib/python3.10/site-packages (0.29.0)\n",
            "Requirement already satisfied: starlette<0.37.0,>=0.36.3 in ./env/lib/python3.10/site-packages (from fastapi) (0.36.3)\n",
            "Requirement already satisfied: pydantic!=1.8,!=1.8.1,!=2.0.0,!=2.0.1,!=2.1.0,<3.0.0,>=1.7.4 in ./env/lib/python3.10/site-packages (from fastapi) (2.6.4)\n",
            "Requirement already satisfied: typing-extensions>=4.8.0 in ./env/lib/python3.10/site-packages (from fastapi) (4.10.0)\n",
            "Requirement already satisfied: h11>=0.8 in ./env/lib/python3.10/site-packages (from uvicorn) (0.14.0)\n",
            "Requirement already satisfied: click>=7.0 in ./env/lib/python3.10/site-packages (from uvicorn) (8.1.7)\n",
            "Requirement already satisfied: pydantic-core==2.16.3 in ./env/lib/python3.10/site-packages (from pydantic!=1.8,!=1.8.1,!=2.0.0,!=2.0.1,!=2.1.0,<3.0.0,>=1.7.4->fastapi) (2.16.3)\n",
            "Requirement already satisfied: annotated-types>=0.4.0 in ./env/lib/python3.10/site-packages (from pydantic!=1.8,!=1.8.1,!=2.0.0,!=2.0.1,!=2.1.0,<3.0.0,>=1.7.4->fastapi) (0.6.0)\n",
            "Requirement already satisfied: anyio<5,>=3.4.0 in ./env/lib/python3.10/site-packages (from starlette<0.37.0,>=0.36.3->fastapi) (4.3.0)\n",
            "Requirement already satisfied: sniffio>=1.1 in ./env/lib/python3.10/site-packages (from anyio<5,>=3.4.0->starlette<0.37.0,>=0.36.3->fastapi) (1.3.1)\n",
            "Requirement already satisfied: idna>=2.8 in ./env/lib/python3.10/site-packages (from anyio<5,>=3.4.0->starlette<0.37.0,>=0.36.3->fastapi) (3.6)\n",
            "Requirement already satisfied: exceptiongroup>=1.0.2 in ./env/lib/python3.10/site-packages (from anyio<5,>=3.4.0->starlette<0.37.0,>=0.36.3->fastapi) (1.2.0)\n",
            "Note: you may need to restart the kernel to use updated packages.\n"
          ]
        }
      ],
      "source": [
        "pip install fastapi uvicorn"
      ]
    },
    {
      "cell_type": "code",
      "execution_count": 70,
      "metadata": {},
      "outputs": [
        {
          "name": "stderr",
          "output_type": "stream",
          "text": [
            "ERROR:asyncio:Task exception was never retrieved\n",
            "future: <Task finished name='Task-1' coro=<Server.serve() done, defined at /home/ihsan/Desktop/settyl/Settyl/env/lib/python3.10/site-packages/uvicorn/server.py:67> exception=KeyboardInterrupt()>\n",
            "Traceback (most recent call last):\n",
            "  File \"/home/ihsan/Desktop/settyl/Settyl/env/lib/python3.10/site-packages/IPython/core/interactiveshell.py\", line 3577, in run_code\n",
            "    exec(code_obj, self.user_global_ns, self.user_ns)\n",
            "  File \"/tmp/ipykernel_97401/34120991.py\", line 6, in <module>\n",
            "    uvicorn.run(app)\n",
            "  File \"/home/ihsan/Desktop/settyl/Settyl/env/lib/python3.10/site-packages/uvicorn/main.py\", line 575, in run\n",
            "    server.run()\n",
            "  File \"/home/ihsan/Desktop/settyl/Settyl/env/lib/python3.10/site-packages/uvicorn/server.py\", line 65, in run\n",
            "    return asyncio.run(self.serve(sockets=sockets))\n",
            "  File \"/home/ihsan/Desktop/settyl/Settyl/env/lib/python3.10/site-packages/nest_asyncio.py\", line 30, in run\n",
            "    return loop.run_until_complete(task)\n",
            "  File \"/home/ihsan/Desktop/settyl/Settyl/env/lib/python3.10/site-packages/nest_asyncio.py\", line 92, in run_until_complete\n",
            "    self._run_once()\n",
            "  File \"/home/ihsan/Desktop/settyl/Settyl/env/lib/python3.10/site-packages/nest_asyncio.py\", line 133, in _run_once\n",
            "    handle._run()\n",
            "  File \"/usr/lib/python3.10/asyncio/events.py\", line 80, in _run\n",
            "    self._context.run(self._callback, *self._args)\n",
            "  File \"/usr/lib/python3.10/asyncio/tasks.py\", line 315, in __wakeup\n",
            "    self.__step()\n",
            "  File \"/usr/lib/python3.10/asyncio/tasks.py\", line 232, in __step\n",
            "    result = coro.send(None)\n",
            "  File \"/home/ihsan/Desktop/settyl/Settyl/env/lib/python3.10/site-packages/uvicorn/server.py\", line 68, in serve\n",
            "    with self.capture_signals():\n",
            "  File \"/usr/lib/python3.10/contextlib.py\", line 142, in __exit__\n",
            "    next(self.gen)\n",
            "  File \"/home/ihsan/Desktop/settyl/Settyl/env/lib/python3.10/site-packages/uvicorn/server.py\", line 328, in capture_signals\n",
            "    signal.raise_signal(captured_signal)\n",
            "KeyboardInterrupt\n",
            "ERROR:asyncio:Task exception was never retrieved\n",
            "future: <Task finished name='Task-6' coro=<Server.serve() done, defined at /home/ihsan/Desktop/settyl/Settyl/env/lib/python3.10/site-packages/uvicorn/server.py:67> exception=KeyboardInterrupt()>\n",
            "Traceback (most recent call last):\n",
            "  File \"/home/ihsan/Desktop/settyl/Settyl/env/lib/python3.10/site-packages/IPython/core/interactiveshell.py\", line 3577, in run_code\n",
            "    exec(code_obj, self.user_global_ns, self.user_ns)\n",
            "  File \"/tmp/ipykernel_97401/34120991.py\", line 6, in <module>\n",
            "    uvicorn.run(app)\n",
            "  File \"/home/ihsan/Desktop/settyl/Settyl/env/lib/python3.10/site-packages/uvicorn/main.py\", line 575, in run\n",
            "    server.run()\n",
            "  File \"/home/ihsan/Desktop/settyl/Settyl/env/lib/python3.10/site-packages/uvicorn/server.py\", line 65, in run\n",
            "    return asyncio.run(self.serve(sockets=sockets))\n",
            "  File \"/home/ihsan/Desktop/settyl/Settyl/env/lib/python3.10/site-packages/nest_asyncio.py\", line 30, in run\n",
            "    return loop.run_until_complete(task)\n",
            "  File \"/home/ihsan/Desktop/settyl/Settyl/env/lib/python3.10/site-packages/nest_asyncio.py\", line 92, in run_until_complete\n",
            "    self._run_once()\n",
            "  File \"/home/ihsan/Desktop/settyl/Settyl/env/lib/python3.10/site-packages/nest_asyncio.py\", line 133, in _run_once\n",
            "    handle._run()\n",
            "  File \"/usr/lib/python3.10/asyncio/events.py\", line 80, in _run\n",
            "    self._context.run(self._callback, *self._args)\n",
            "  File \"/usr/lib/python3.10/asyncio/tasks.py\", line 315, in __wakeup\n",
            "    self.__step()\n",
            "  File \"/usr/lib/python3.10/asyncio/tasks.py\", line 232, in __step\n",
            "    result = coro.send(None)\n",
            "  File \"/home/ihsan/Desktop/settyl/Settyl/env/lib/python3.10/site-packages/uvicorn/server.py\", line 68, in serve\n",
            "    with self.capture_signals():\n",
            "  File \"/usr/lib/python3.10/contextlib.py\", line 142, in __exit__\n",
            "    next(self.gen)\n",
            "  File \"/home/ihsan/Desktop/settyl/Settyl/env/lib/python3.10/site-packages/uvicorn/server.py\", line 328, in capture_signals\n",
            "    signal.raise_signal(captured_signal)\n",
            "KeyboardInterrupt\n",
            "ERROR:asyncio:Task exception was never retrieved\n",
            "future: <Task finished name='Task-11' coro=<Server.serve() done, defined at /home/ihsan/Desktop/settyl/Settyl/env/lib/python3.10/site-packages/uvicorn/server.py:67> exception=KeyboardInterrupt()>\n",
            "Traceback (most recent call last):\n",
            "  File \"/home/ihsan/Desktop/settyl/Settyl/env/lib/python3.10/site-packages/IPython/core/interactiveshell.py\", line 3577, in run_code\n",
            "    exec(code_obj, self.user_global_ns, self.user_ns)\n",
            "  File \"/tmp/ipykernel_97401/34120991.py\", line 6, in <module>\n",
            "    uvicorn.run(app)\n",
            "  File \"/home/ihsan/Desktop/settyl/Settyl/env/lib/python3.10/site-packages/uvicorn/main.py\", line 575, in run\n",
            "    server.run()\n",
            "  File \"/home/ihsan/Desktop/settyl/Settyl/env/lib/python3.10/site-packages/uvicorn/server.py\", line 65, in run\n",
            "    return asyncio.run(self.serve(sockets=sockets))\n",
            "  File \"/home/ihsan/Desktop/settyl/Settyl/env/lib/python3.10/site-packages/nest_asyncio.py\", line 30, in run\n",
            "    return loop.run_until_complete(task)\n",
            "  File \"/home/ihsan/Desktop/settyl/Settyl/env/lib/python3.10/site-packages/nest_asyncio.py\", line 92, in run_until_complete\n",
            "    self._run_once()\n",
            "  File \"/home/ihsan/Desktop/settyl/Settyl/env/lib/python3.10/site-packages/nest_asyncio.py\", line 133, in _run_once\n",
            "    handle._run()\n",
            "  File \"/usr/lib/python3.10/asyncio/events.py\", line 80, in _run\n",
            "    self._context.run(self._callback, *self._args)\n",
            "  File \"/usr/lib/python3.10/asyncio/tasks.py\", line 315, in __wakeup\n",
            "    self.__step()\n",
            "  File \"/usr/lib/python3.10/asyncio/tasks.py\", line 232, in __step\n",
            "    result = coro.send(None)\n",
            "  File \"/home/ihsan/Desktop/settyl/Settyl/env/lib/python3.10/site-packages/uvicorn/server.py\", line 68, in serve\n",
            "    with self.capture_signals():\n",
            "  File \"/usr/lib/python3.10/contextlib.py\", line 142, in __exit__\n",
            "    next(self.gen)\n",
            "  File \"/home/ihsan/Desktop/settyl/Settyl/env/lib/python3.10/site-packages/uvicorn/server.py\", line 328, in capture_signals\n",
            "    signal.raise_signal(captured_signal)\n",
            "KeyboardInterrupt\n",
            "ERROR:asyncio:Task exception was never retrieved\n",
            "future: <Task finished name='Task-16' coro=<Server.serve() done, defined at /home/ihsan/Desktop/settyl/Settyl/env/lib/python3.10/site-packages/uvicorn/server.py:67> exception=KeyboardInterrupt()>\n",
            "Traceback (most recent call last):\n",
            "  File \"/home/ihsan/Desktop/settyl/Settyl/env/lib/python3.10/site-packages/IPython/core/interactiveshell.py\", line 3577, in run_code\n",
            "    exec(code_obj, self.user_global_ns, self.user_ns)\n",
            "  File \"/tmp/ipykernel_97401/34120991.py\", line 6, in <module>\n",
            "    uvicorn.run(app)\n",
            "  File \"/home/ihsan/Desktop/settyl/Settyl/env/lib/python3.10/site-packages/uvicorn/main.py\", line 575, in run\n",
            "    server.run()\n",
            "  File \"/home/ihsan/Desktop/settyl/Settyl/env/lib/python3.10/site-packages/uvicorn/server.py\", line 65, in run\n",
            "    return asyncio.run(self.serve(sockets=sockets))\n",
            "  File \"/home/ihsan/Desktop/settyl/Settyl/env/lib/python3.10/site-packages/nest_asyncio.py\", line 30, in run\n",
            "    return loop.run_until_complete(task)\n",
            "  File \"/home/ihsan/Desktop/settyl/Settyl/env/lib/python3.10/site-packages/nest_asyncio.py\", line 92, in run_until_complete\n",
            "    self._run_once()\n",
            "  File \"/home/ihsan/Desktop/settyl/Settyl/env/lib/python3.10/site-packages/nest_asyncio.py\", line 133, in _run_once\n",
            "    handle._run()\n",
            "  File \"/usr/lib/python3.10/asyncio/events.py\", line 80, in _run\n",
            "    self._context.run(self._callback, *self._args)\n",
            "  File \"/usr/lib/python3.10/asyncio/tasks.py\", line 315, in __wakeup\n",
            "    self.__step()\n",
            "  File \"/usr/lib/python3.10/asyncio/tasks.py\", line 232, in __step\n",
            "    result = coro.send(None)\n",
            "  File \"/home/ihsan/Desktop/settyl/Settyl/env/lib/python3.10/site-packages/uvicorn/server.py\", line 68, in serve\n",
            "    with self.capture_signals():\n",
            "  File \"/usr/lib/python3.10/contextlib.py\", line 142, in __exit__\n",
            "    next(self.gen)\n",
            "  File \"/home/ihsan/Desktop/settyl/Settyl/env/lib/python3.10/site-packages/uvicorn/server.py\", line 328, in capture_signals\n",
            "    signal.raise_signal(captured_signal)\n",
            "KeyboardInterrupt\n",
            "ERROR:asyncio:Task exception was never retrieved\n",
            "future: <Task finished name='Task-21' coro=<Server.serve() done, defined at /home/ihsan/Desktop/settyl/Settyl/env/lib/python3.10/site-packages/uvicorn/server.py:67> exception=KeyboardInterrupt()>\n",
            "Traceback (most recent call last):\n",
            "  File \"/home/ihsan/Desktop/settyl/Settyl/env/lib/python3.10/site-packages/IPython/core/interactiveshell.py\", line 3577, in run_code\n",
            "    exec(code_obj, self.user_global_ns, self.user_ns)\n",
            "  File \"/tmp/ipykernel_97401/1868375672.py\", line 13, in <module>\n",
            "    uvicorn.run(app, port=8000)\n",
            "  File \"/home/ihsan/Desktop/settyl/Settyl/env/lib/python3.10/site-packages/uvicorn/main.py\", line 575, in run\n",
            "    server.run()\n",
            "  File \"/home/ihsan/Desktop/settyl/Settyl/env/lib/python3.10/site-packages/uvicorn/server.py\", line 65, in run\n",
            "    return asyncio.run(self.serve(sockets=sockets))\n",
            "  File \"/home/ihsan/Desktop/settyl/Settyl/env/lib/python3.10/site-packages/nest_asyncio.py\", line 30, in run\n",
            "    return loop.run_until_complete(task)\n",
            "  File \"/home/ihsan/Desktop/settyl/Settyl/env/lib/python3.10/site-packages/nest_asyncio.py\", line 92, in run_until_complete\n",
            "    self._run_once()\n",
            "  File \"/home/ihsan/Desktop/settyl/Settyl/env/lib/python3.10/site-packages/nest_asyncio.py\", line 133, in _run_once\n",
            "    handle._run()\n",
            "  File \"/usr/lib/python3.10/asyncio/events.py\", line 80, in _run\n",
            "    self._context.run(self._callback, *self._args)\n",
            "  File \"/usr/lib/python3.10/asyncio/tasks.py\", line 315, in __wakeup\n",
            "    self.__step()\n",
            "  File \"/usr/lib/python3.10/asyncio/tasks.py\", line 232, in __step\n",
            "    result = coro.send(None)\n",
            "  File \"/home/ihsan/Desktop/settyl/Settyl/env/lib/python3.10/site-packages/uvicorn/server.py\", line 68, in serve\n",
            "    with self.capture_signals():\n",
            "  File \"/usr/lib/python3.10/contextlib.py\", line 142, in __exit__\n",
            "    next(self.gen)\n",
            "  File \"/home/ihsan/Desktop/settyl/Settyl/env/lib/python3.10/site-packages/uvicorn/server.py\", line 328, in capture_signals\n",
            "    signal.raise_signal(captured_signal)\n",
            "KeyboardInterrupt\n",
            "ERROR:asyncio:Task exception was never retrieved\n",
            "future: <Task finished name='Task-34' coro=<Server.serve() done, defined at /home/ihsan/Desktop/settyl/Settyl/env/lib/python3.10/site-packages/uvicorn/server.py:67> exception=KeyboardInterrupt()>\n",
            "Traceback (most recent call last):\n",
            "  File \"/home/ihsan/Desktop/settyl/Settyl/env/lib/python3.10/site-packages/IPython/core/interactiveshell.py\", line 3577, in run_code\n",
            "    exec(code_obj, self.user_global_ns, self.user_ns)\n",
            "  File \"/tmp/ipykernel_97401/1868375672.py\", line 13, in <module>\n",
            "    uvicorn.run(app, port=8000)\n",
            "  File \"/home/ihsan/Desktop/settyl/Settyl/env/lib/python3.10/site-packages/uvicorn/main.py\", line 575, in run\n",
            "    server.run()\n",
            "  File \"/home/ihsan/Desktop/settyl/Settyl/env/lib/python3.10/site-packages/uvicorn/server.py\", line 65, in run\n",
            "    return asyncio.run(self.serve(sockets=sockets))\n",
            "  File \"/home/ihsan/Desktop/settyl/Settyl/env/lib/python3.10/site-packages/nest_asyncio.py\", line 30, in run\n",
            "    return loop.run_until_complete(task)\n",
            "  File \"/home/ihsan/Desktop/settyl/Settyl/env/lib/python3.10/site-packages/nest_asyncio.py\", line 92, in run_until_complete\n",
            "    self._run_once()\n",
            "  File \"/home/ihsan/Desktop/settyl/Settyl/env/lib/python3.10/site-packages/nest_asyncio.py\", line 133, in _run_once\n",
            "    handle._run()\n",
            "  File \"/usr/lib/python3.10/asyncio/events.py\", line 80, in _run\n",
            "    self._context.run(self._callback, *self._args)\n",
            "  File \"/usr/lib/python3.10/asyncio/tasks.py\", line 315, in __wakeup\n",
            "    self.__step()\n",
            "  File \"/usr/lib/python3.10/asyncio/tasks.py\", line 232, in __step\n",
            "    result = coro.send(None)\n",
            "  File \"/home/ihsan/Desktop/settyl/Settyl/env/lib/python3.10/site-packages/uvicorn/server.py\", line 68, in serve\n",
            "    with self.capture_signals():\n",
            "  File \"/usr/lib/python3.10/contextlib.py\", line 142, in __exit__\n",
            "    next(self.gen)\n",
            "  File \"/home/ihsan/Desktop/settyl/Settyl/env/lib/python3.10/site-packages/uvicorn/server.py\", line 328, in capture_signals\n",
            "    signal.raise_signal(captured_signal)\n",
            "KeyboardInterrupt\n",
            "ERROR:asyncio:Task exception was never retrieved\n",
            "future: <Task finished name='Task-51' coro=<Server.serve() done, defined at /home/ihsan/Desktop/settyl/Settyl/env/lib/python3.10/site-packages/uvicorn/server.py:67> exception=KeyboardInterrupt()>\n",
            "Traceback (most recent call last):\n",
            "  File \"/home/ihsan/Desktop/settyl/Settyl/env/lib/python3.10/site-packages/IPython/core/interactiveshell.py\", line 3577, in run_code\n",
            "    exec(code_obj, self.user_global_ns, self.user_ns)\n",
            "  File \"/tmp/ipykernel_97401/1868375672.py\", line 13, in <module>\n",
            "    uvicorn.run(app, port=8000)\n",
            "  File \"/home/ihsan/Desktop/settyl/Settyl/env/lib/python3.10/site-packages/uvicorn/main.py\", line 575, in run\n",
            "    server.run()\n",
            "  File \"/home/ihsan/Desktop/settyl/Settyl/env/lib/python3.10/site-packages/uvicorn/server.py\", line 65, in run\n",
            "    return asyncio.run(self.serve(sockets=sockets))\n",
            "  File \"/home/ihsan/Desktop/settyl/Settyl/env/lib/python3.10/site-packages/nest_asyncio.py\", line 30, in run\n",
            "    return loop.run_until_complete(task)\n",
            "  File \"/home/ihsan/Desktop/settyl/Settyl/env/lib/python3.10/site-packages/nest_asyncio.py\", line 92, in run_until_complete\n",
            "    self._run_once()\n",
            "  File \"/home/ihsan/Desktop/settyl/Settyl/env/lib/python3.10/site-packages/nest_asyncio.py\", line 133, in _run_once\n",
            "    handle._run()\n",
            "  File \"/usr/lib/python3.10/asyncio/events.py\", line 80, in _run\n",
            "    self._context.run(self._callback, *self._args)\n",
            "  File \"/usr/lib/python3.10/asyncio/tasks.py\", line 315, in __wakeup\n",
            "    self.__step()\n",
            "  File \"/usr/lib/python3.10/asyncio/tasks.py\", line 232, in __step\n",
            "    result = coro.send(None)\n",
            "  File \"/home/ihsan/Desktop/settyl/Settyl/env/lib/python3.10/site-packages/uvicorn/server.py\", line 68, in serve\n",
            "    with self.capture_signals():\n",
            "  File \"/usr/lib/python3.10/contextlib.py\", line 142, in __exit__\n",
            "    next(self.gen)\n",
            "  File \"/home/ihsan/Desktop/settyl/Settyl/env/lib/python3.10/site-packages/uvicorn/server.py\", line 328, in capture_signals\n",
            "    signal.raise_signal(captured_signal)\n",
            "KeyboardInterrupt\n"
          ]
        }
      ],
      "source": [
        "from fastapi import FastAPI\n",
        "import tensorflow as tf\n",
        "import pickle\n",
        "from pydantic import BaseModel\n",
        "from fastapi import HTTPException\n",
        "import re\n",
        "import string\n",
        "\n",
        "app = FastAPI()\n",
        "\n",
        "# Load tokenizer and encoder\n",
        "with open('tokenizer.pkl', 'rb') as f:\n",
        "    tokenizer = pickle.load(f)\n",
        "\n",
        "with open('encoder.pkl', 'rb') as f:\n",
        "    encoder = pickle.load(f)\n",
        "\n",
        "\n",
        "# Load model\n",
        "model = tf.saved_model.load(r'save')\n",
        "\n",
        "# maxlen\n",
        "sequences = tokenizer.texts_to_sequences(df['externalStatus_clean'])\n",
        "maxlen = max([len(seq) for seq in sequences])\n",
        "\n",
        "# Clean text function\n",
        "def clean_text(input_string):\n",
        "    pattern = r'[{}]'.format(re.escape(string.punctuation))\n",
        "    output_string = re.sub(pattern, ' ', input_string)\n",
        "    return output_string.lower()\n",
        "\n",
        "infer = model.signatures[\"serving_default\"]\n",
        "\n",
        "def predict_outcome(text):\n",
        "    input_sequence = tokenizer.texts_to_sequences([clean_text(text)])\n",
        "    padded_input_sequence = pad_sequences(input_sequence, truncating=\"post\", padding=\"post\", maxlen=maxlen)\n",
        "    padded_input_sequence_float = tf.cast(padded_input_sequence, dtype=tf.float32)  # Convert to float tensor\n",
        "    outputs = model.signatures[\"serving_default\"](tf.constant(padded_input_sequence_float))\n",
        "    pred_index = tf.argmax(outputs['output_0'], axis=1).numpy()[0]\n",
        "    return pred_index\n",
        "\n",
        "# API request body model\n",
        "class PredictionRequest(BaseModel):\n",
        "    external_status: str\n",
        "\n",
        "# API response model\n",
        "class PredictionResponse(BaseModel):\n",
        "    predicted_label: str\n",
        "\n",
        "@app.post(\"/predict\", response_model=PredictionResponse)\n",
        "def predict(request: PredictionRequest):\n",
        "    try:\n",
        "        prediction_index = predict_outcome(request.external_status)\n",
        "        predicted_label = encoder.categories_[0][prediction_index]\n",
        "        return {\"predicted_label\": predicted_label}\n",
        "    except Exception as e:\n",
        "        # Log the error for debugging purposes\n",
        "        print(f\"An error occurred during prediction: {e}\")\n",
        "        # Raise HTTPException with 500 status code and error message\n",
        "        raise HTTPException(status_code=500, detail=\"Internal Server Error\")"
      ]
    },
    {
      "cell_type": "code",
      "execution_count": 61,
      "metadata": {},
      "outputs": [
        {
          "name": "stdout",
          "output_type": "stream",
          "text": [
            "Collecting pyngrok\n",
            "  Downloading pyngrok-7.1.5-py3-none-any.whl (22 kB)\n",
            "Collecting PyYAML>=5.1\n",
            "  Using cached PyYAML-6.0.1-cp310-cp310-manylinux_2_17_x86_64.manylinux2014_x86_64.whl (705 kB)\n",
            "Installing collected packages: PyYAML, pyngrok\n",
            "Successfully installed PyYAML-6.0.1 pyngrok-7.1.5\n",
            "Note: you may need to restart the kernel to use updated packages.\n"
          ]
        }
      ],
      "source": [
        "pip install pyngrok"
      ]
    },
    {
      "cell_type": "code",
      "execution_count": 74,
      "metadata": {},
      "outputs": [
        {
          "name": "stdout",
          "output_type": "stream",
          "text": [
            "Collecting python-dotenv\n",
            "  Downloading python_dotenv-1.0.1-py3-none-any.whl (19 kB)\n",
            "Installing collected packages: python-dotenv\n",
            "Successfully installed python-dotenv-1.0.1\n",
            "Note: you may need to restart the kernel to use updated packages.\n"
          ]
        }
      ],
      "source": [
        "pip install python-dotenv"
      ]
    },
    {
      "cell_type": "code",
      "execution_count": 75,
      "metadata": {},
      "outputs": [
        {
          "name": "stdout",
          "output_type": "stream",
          "text": [
            "Public URL: https://778f-150-129-101-209.ngrok-free.app\n"
          ]
        },
        {
          "name": "stderr",
          "output_type": "stream",
          "text": [
            "INFO:     Started server process [97401]\n",
            "INFO:     Waiting for application startup.\n",
            "INFO:     Application startup complete.\n",
            "INFO:     Uvicorn running on http://127.0.0.1:8000 (Press CTRL+C to quit)\n"
          ]
        },
        {
          "name": "stdout",
          "output_type": "stream",
          "text": [
            "INFO:     150.129.101.209:0 - \"GET /docs HTTP/1.1\" 200 OK\n",
            "INFO:     150.129.101.209:0 - \"GET /openapi.json HTTP/1.1\" 200 OK\n",
            "INFO:     150.129.101.209:0 - \"POST /predict HTTP/1.1\" 200 OK\n"
          ]
        }
      ],
      "source": [
        "# public url \n",
        "import nest_asyncio\n",
        "import uvicorn\n",
        "from pyngrok import ngrok\n",
        "import os\n",
        "from dotenv import load_dotenv\n",
        "\n",
        "load_dotenv()\n",
        "ngrok_auth_token = os.getenv(\"NGROK_AUTH_TOKEN\")\n",
        "\n",
        "ngrok.set_auth_token(ngrok_auth_token)\n",
        "ngrok_tunnel = ngrok.connect(8000)\n",
        "\n",
        "print('Public URL:', ngrok_tunnel.public_url)\n",
        "\n",
        "nest_asyncio.apply()\n",
        "uvicorn.run(app, port=8000)"
      ]
    }
  ],
  "metadata": {
    "colab": {
      "include_colab_link": true,
      "provenance": []
    },
    "kernelspec": {
      "display_name": "Python 3",
      "name": "python3"
    },
    "language_info": {
      "codemirror_mode": {
        "name": "ipython",
        "version": 3
      },
      "file_extension": ".py",
      "mimetype": "text/x-python",
      "name": "python",
      "nbconvert_exporter": "python",
      "pygments_lexer": "ipython3",
      "version": "3.10.12"
    }
  },
  "nbformat": 4,
  "nbformat_minor": 0
}
